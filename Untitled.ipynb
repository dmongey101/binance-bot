{
 "cells": [
  {
   "cell_type": "code",
   "execution_count": 1,
   "metadata": {},
   "outputs": [
    {
     "name": "stdout",
     "output_type": "stream",
     "text": [
      "[{'symbol': 'BNBBUSD', 'price': '45.00000000'}, {'symbol': 'BTCBUSD', 'price': '24909.95000000'}, {'symbol': 'ETHBUSD', 'price': '1380.00000000'}, {'symbol': 'LTCBUSD', 'price': '153.90000000'}, {'symbol': 'TRXBUSD', 'price': '0.02896000'}, {'symbol': 'XRPBUSD', 'price': '0.27000000'}, {'symbol': 'BNBUSDT', 'price': '41.76300000'}, {'symbol': 'BTCUSDT', 'price': '35000.00000000'}, {'symbol': 'ETHUSDT', 'price': '200.00000000'}, {'symbol': 'LTCUSDT', 'price': '180.00000000'}, {'symbol': 'TRXUSDT', 'price': '0.03050000'}, {'symbol': 'XRPUSDT', 'price': '0.30000000'}, {'symbol': 'BNBBTC', 'price': '0.00170000'}, {'symbol': 'ETHBTC', 'price': '0.08000000'}, {'symbol': 'LTCBTC', 'price': '0.00430100'}, {'symbol': 'TRXBTC', 'price': '0.00000089'}, {'symbol': 'XRPBTC', 'price': '0.00001592'}, {'symbol': 'LTCBNB', 'price': '3.80000000'}, {'symbol': 'TRXBNB', 'price': '0.00000000'}, {'symbol': 'XRPBNB', 'price': '0.00577000'}]\n"
     ]
    }
   ],
   "source": [
    "from binance.client import Client\n",
    "from binance.enums import *\n",
    "import os\n",
    "import os.path\n",
    "from dotenv import load_dotenv\n",
    "\n",
    "api_key = os.getenv(\"BINANCE_API_KEY\")\n",
    "api_secret = os.getenv(\"BINANCE_API_SECRET\")\n",
    "client = Client(api_key, api_secret)\n",
    "client.API_URL = 'https://testnet.binance.vision/api'\n",
    "\n",
    "prices = client.get_all_tickers()\n",
    "print(prices)"
   ]
  },
  {
   "cell_type": "code",
   "execution_count": null,
   "metadata": {},
   "outputs": [],
   "source": []
  }
 ],
 "metadata": {
  "kernelspec": {
   "display_name": "Python 3",
   "language": "python",
   "name": "python3"
  },
  "language_info": {
   "codemirror_mode": {
    "name": "ipython",
    "version": 3
   },
   "file_extension": ".py",
   "mimetype": "text/x-python",
   "name": "python",
   "nbconvert_exporter": "python",
   "pygments_lexer": "ipython3",
   "version": "3.8.5"
  }
 },
 "nbformat": 4,
 "nbformat_minor": 4
}
