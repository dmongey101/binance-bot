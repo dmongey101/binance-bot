{
 "cells": [
  {
   "cell_type": "code",
   "execution_count": 6,
   "metadata": {},
   "outputs": [
    {
     "name": "stdout",
     "output_type": "stream",
     "text": [
      "BTC Jan-19-2021!A2:G\n",
      "390 cells updated.\n"
     ]
    }
   ],
   "source": [
    "import os\n",
    "import os.path\n",
    "import math\n",
    "import time\n",
    "import json\n",
    "import pickle\n",
    "import pandas as pd\n",
    "import requests\n",
    "import urllib3\n",
    "from googleapiclient.discovery import build\n",
    "from google_auth_oauthlib.flow import InstalledAppFlow,Flow\n",
    "from google.auth.transport.requests import Request\n",
    "from binance.client import Client\n",
    "from binance.enums import *\n",
    "from dotenv import load_dotenv\n",
    "from datetime import date\n",
    "\n",
    "today = date.today().strftime(\"%b-%d-%Y\")\n",
    "\n",
    "load_dotenv()\n",
    "urllib3.disable_warnings(urllib3.exceptions.InsecureRequestWarning)\n",
    "\n",
    "risk_strategy_sheet_id = os.getenv(\"RISK_STRATEGY_SHEET_ID\")\n",
    "risk_strategy_sheet_range = 'BTC!A2:G'\n",
    "\n",
    "binance_bot_sheet_id = os.getenv('BINANCE_BOT_SHEET_ID')\n",
    "binance_bot_sheet_range = 'Binance-bot!A2:G'\n",
    "\n",
    "def get_current_risks():\n",
    "    global data, service, current_btc_price\n",
    "    creds = None\n",
    "    if os.path.exists('token.pickle'):\n",
    "        with open('token.pickle', 'rb') as token:\n",
    "            creds = pickle.load(token)\n",
    "    if not creds or not creds.valid:\n",
    "        if creds and creds.expired and creds.refresh_token:\n",
    "            creds.refresh(Request())\n",
    "        else:\n",
    "            flow = InstalledAppFlow.from_client_secrets_file(\n",
    "                'test-bot-creds.json', SCOPES) # here enter the name of your downloaded JSON file\n",
    "            creds = flow.run_local_server(port=0)\n",
    "        with open('token.pickle', 'wb') as token:\n",
    "            pickle.dump(creds, token)\n",
    "\n",
    "    service = build('sheets', 'v4', credentials=creds)\n",
    "\n",
    "    risk_strat_result = service.spreadsheets().values().get(\n",
    "        spreadsheetId=risk_strategy_sheet_id, range=risk_strategy_sheet_range).execute()\n",
    "    risk_strat_rows = risk_strat_result.get('values', [])\n",
    "    risk_strat_rows[1][0] = ''\n",
    "    risk_strat_rows[1][1] = ''\n",
    "    bot_result = service.spreadsheets().values().get(\n",
    "        spreadsheetId=binance_bot_sheet_id, range=binance_bot_sheet_range).execute()\n",
    "    bot_rows = bot_result.get('values', [])\n",
    "    bot_rows[1][0] = ''\n",
    "    bot_rows[1][1] = ''\n",
    "\n",
    "    if risk_strat_rows != bot_rows:\n",
    "        title = 'BTC ' + today\n",
    "        body = {\n",
    "        'requests': [{\n",
    "            'addSheet': {\n",
    "                'properties': {\n",
    "                    'title': title,\n",
    "                }\n",
    "            }\n",
    "        }]\n",
    "        }\n",
    "\n",
    "        result = service.spreadsheets().batchUpdate(\n",
    "            spreadsheetId=binance_bot_sheet_id,\n",
    "            body=body).execute()\n",
    "\n",
    "        body = {\n",
    "            'values': risk_strat_rows\n",
    "        }\n",
    "        new_range = '{0}!A2:G'.format(title)\n",
    "        result = service.spreadsheets().values().update(\n",
    "            spreadsheetId=binance_bot_sheet_id, range=new_range,\n",
    "            valueInputOption='USER_ENTERED', body=body).execute()\n",
    "        print('{0} cells updated.'.format(result.get('updatedCells')))\n",
    "        \n",
    "\n",
    "get_current_risks()  "
   ]
  },
  {
   "cell_type": "code",
   "execution_count": null,
   "metadata": {},
   "outputs": [],
   "source": []
  },
  {
   "cell_type": "code",
   "execution_count": null,
   "metadata": {},
   "outputs": [],
   "source": []
  },
  {
   "cell_type": "code",
   "execution_count": null,
   "metadata": {},
   "outputs": [],
   "source": []
  }
 ],
 "metadata": {
  "kernelspec": {
   "display_name": "Python 3",
   "language": "python",
   "name": "python3"
  },
  "language_info": {
   "codemirror_mode": {
    "name": "ipython",
    "version": 3
   },
   "file_extension": ".py",
   "mimetype": "text/x-python",
   "name": "python",
   "nbconvert_exporter": "python",
   "pygments_lexer": "ipython3",
   "version": "3.8.5"
  }
 },
 "nbformat": 4,
 "nbformat_minor": 4
}
