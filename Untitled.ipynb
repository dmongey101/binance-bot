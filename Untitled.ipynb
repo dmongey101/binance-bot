{
 "cells": [
  {
   "cell_type": "code",
   "execution_count": 3,
   "metadata": {},
   "outputs": [
    {
     "name": "stdout",
     "output_type": "stream",
     "text": [
      "['btcusd', 'btcdai', 'btcgbp', 'btceur', 'btcsgd', 'ethbtc', 'ethusd', 'ethgbp', 'etheur', 'ethsgd', 'ethdai', 'bchusd', 'bchbtc', 'bcheth', 'ltcusd', 'ltcbtc', 'ltceth', 'ltcbch', 'zecusd', 'zecbtc', 'zeceth', 'zecbch', 'zecltc', 'batusd', 'batbtc', 'bateth', 'linkusd', 'linkbtc', 'linketh', 'daiusd', 'oxtusd', 'oxtbtc', 'oxteth', 'filusd', 'ampusd', 'paxgusd', 'compusd', 'mkrusd', 'zrxusd', 'kncusd', 'storjusd', 'manausd', 'aaveusd', 'snxusd', 'yfiusd', 'umausd', 'balusd', 'crvusd', 'renusd', 'uniusd']\n"
     ]
    }
   ],
   "source": [
    "import os\n",
    "import math\n",
    "\n",
    "from geminipy import Geminipy\n",
    "\n",
    "api_key = os.getenv(\"GEMINI_API_KEY\")\n",
    "api_secret = os.getenv(\"GEMINI_API_SECRET\")\n",
    "\n",
    "con = Geminipy(api_key=api_key, secret_key=api_secret, live=True)\n",
    "symbols = con.symbols()\n",
    "print(symbols.json())"
   ]
  },
  {
   "cell_type": "code",
   "execution_count": null,
   "metadata": {},
   "outputs": [],
   "source": []
  }
 ],
 "metadata": {
  "kernelspec": {
   "display_name": "Python 3",
   "language": "python",
   "name": "python3"
  },
  "language_info": {
   "codemirror_mode": {
    "name": "ipython",
    "version": 3
   },
   "file_extension": ".py",
   "mimetype": "text/x-python",
   "name": "python",
   "nbconvert_exporter": "python",
   "pygments_lexer": "ipython3",
   "version": "3.8.5"
  }
 },
 "nbformat": 4,
 "nbformat_minor": 4
}
